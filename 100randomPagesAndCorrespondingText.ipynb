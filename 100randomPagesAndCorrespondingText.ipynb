{
 "cells": [
  {
   "cell_type": "code",
   "execution_count": 78,
   "metadata": {},
   "outputs": [],
   "source": [
    "import pandas as pd\n",
    "import numpy as np\n",
    "import os"
   ]
  },
  {
   "cell_type": "code",
   "execution_count": 6,
   "metadata": {},
   "outputs": [],
   "source": [
    "# filelist = os.listdir()\n",
    "# filelist.remove('.ipynb_checkpoints')"
   ]
  },
  {
   "cell_type": "code",
   "execution_count": 34,
   "metadata": {},
   "outputs": [],
   "source": [
    "df1=pd.read_csv(filelist[0],sep=',',encoding = 'ISO-8859–1')\n",
    "for n in range (1,len(filelist)):\n",
    "    df2 = pd.read_csv(filelist[n],sep=',',encoding = 'ISO-8859–1')\n",
    "    df = df1.append(df2, ignore_index=True)\n",
    "    df1 = df"
   ]
  },
  {
   "cell_type": "code",
   "execution_count": 79,
   "metadata": {},
   "outputs": [],
   "source": [
    "df1['text'] = df1['text'].replace(np.nan, '')"
   ]
  },
  {
   "cell_type": "code",
   "execution_count": 80,
   "metadata": {},
   "outputs": [],
   "source": [
    "df3 = df1.sample(n=100, random_state=1)\n",
    "df1_names = df1['name'].values"
   ]
  },
  {
   "cell_type": "code",
   "execution_count": 106,
   "metadata": {},
   "outputs": [],
   "source": [
    "path = 'https://archive.org/download/'\n",
    "file1 = open(\"100randompagesandtext.txt\",\"w\") \n",
    "text_list = []\n",
    "link_list = []\n",
    "\n",
    "for n in (df3['name']).values:\n",
    "    text = (df1.loc[df1['name'] ==  n, 'text'].values)\n",
    "    page_text = ' '.join(text)\n",
    "    page_link = (path + n[:-9] + '/' + n[:-9] + '_jp2.zip/' + n[:-9] + '_jp2%2F' + n + '&ext=jpg')\n",
    "    with open('out.txt', 'a') as f:\n",
    "        print(page_link,'\\n\\n', page_text.encode('utf-8'), '\\n\\n', file=f)"
   ]
  }
 ],
 "metadata": {
  "kernelspec": {
   "display_name": "Python 3",
   "language": "python",
   "name": "python3"
  },
  "language_info": {
   "codemirror_mode": {
    "name": "ipython",
    "version": 3
   },
   "file_extension": ".py",
   "mimetype": "text/x-python",
   "name": "python",
   "nbconvert_exporter": "python",
   "pygments_lexer": "ipython3",
   "version": "3.7.3"
  }
 },
 "nbformat": 4,
 "nbformat_minor": 2
}
