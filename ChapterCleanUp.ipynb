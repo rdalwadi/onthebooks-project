{
 "cells": [
  {
   "cell_type": "markdown",
   "metadata": {},
   "source": [
    "# Code to fix +- 1 errors in step 1 of new process"
   ]
  },
  {
   "cell_type": "code",
   "execution_count": 1,
   "metadata": {},
   "outputs": [],
   "source": [
    "import re\n",
    "import os\n",
    "import csv\n",
    "import string\n",
    "import regex as re\n",
    "import numpy as np"
   ]
  },
  {
   "cell_type": "code",
   "execution_count": null,
   "metadata": {},
   "outputs": [],
   "source": [
    "filename = 'privatelawsofsta1911nort_private laws_split.csv'\n",
    "with open(filename, 'r') as file:\n",
    "    reader = csv.DictReader(file)\n",
    "    Chapter =[d['Chapter'] for d in reader]"
   ]
  },
  {
   "cell_type": "code",
   "execution_count": 3,
   "metadata": {},
   "outputs": [],
   "source": [
    "def removeDuplicates(listofElements):\n",
    "    \n",
    "    # Create an empty list to store unique elements\n",
    "    uniqueList = []\n",
    "    \n",
    "    # Iterate over the original list and for each element\n",
    "    # add it to uniqueList, if its not already there.\n",
    "    for elem in listofElements:\n",
    "        if elem not in uniqueList:\n",
    "            uniqueList.append(elem)\n",
    "    \n",
    "    # Return the list of unique elements        \n",
    "    return uniqueList"
   ]
  },
  {
   "cell_type": "code",
   "execution_count": 4,
   "metadata": {},
   "outputs": [],
   "source": [
    "with open(filename, 'r') as file:\n",
    "    reader = csv.DictReader(file)\n",
    "    Chapter =[d['Chapter'] for d in reader]\n",
    "    chapters = removeDuplicates(Chapter)"
   ]
  },
  {
   "cell_type": "code",
   "execution_count": 212,
   "metadata": {},
   "outputs": [
    {
     "name": "stdout",
     "output_type": "stream",
     "text": [
      "['1', '2', '3', '4', '5', '6', '7', '8', '9', '11', '12', '13', '14', '16', '17', '18', '10', '20', '21', '22', '23', '24', '25', '26', '27', '28', '29', '30', '31', '32', '33', '34', '35', '36', '37', '38', '39', '40', '41', '42', '43', '44', '45', '46', '47', '48', '50', '52', '53', '54', '55', '56', '57', '58', '60', '61', '62', '63', '64', '65', '66', '67', '68', '70', '71', '72', '73', '74', '76', '77', '78', '79', '81', '82', '83', '84', '85', '86', '87', '838', '80', '93', '094', '95', '096', '97', '08', '99', '103', '104', '105', '106', '107', '108', '110', '111', '112', '113', '114', '115', '116', '117', '118', '1109', '120', '121', '122', '123', '124', '125', '126', '127', '128', '129', '130', '131', '132', '133', '134', '135', '136', '137', '138', '1309', '140', '141', '142', '143', '144', '145', '146', '147', '148', '149', '150', '151', '152', '153', '154', '155', '156', '157', '158', '160', '161', '162', '163', '164', '165', '166', '167', '168', '169', '170', '171', '172', '173', '174', '175', '176', '177', '178', '179', '180', '181', '182', '183', '184', '185', '186', '187', '188', '189', '190', '102', '193', '1094', '195', '1096', '1097', '199', '200', '201', '202', '203', '204', '205', '206', '207', '208', '210', '211', '212', '213', '214', '215', '216', '217', '218', '2109', '220', '221', '222', '223', '224', '225', '226', '227', '228', '2209', '230', '231', '232', '233', '234', '235', '236', '237', '238', '239', '240', '241', '242', '243', '244', '245', '246', '247', '248', '249', '250', '251', '252', '253', '254', '255', '256', '257', '258', '260', '261', '262', '263', '264', '266', '267', '268', '269', '270', '271', '272', '273', '274', '275', '276', '277', '278', '279', '280', '281', '282', '283', '284', '285', '286', '287', '288', '289', '290', '2092', '293', '294', '295', '2097', '298', '299', '300', '301', '302', '303', '304', '305', '306', '307', '308', '310', '311', '312', '313', '314', '315', '316', '317', '318', '319', '320', '321', '322', '323', '324', '325', '326', '327', '328', '329', '330', '331', '332', '333', '334', '335', '336', '337', '338', '339', '340', '341', '342', '343', '344', '345', '346', '347', '348', '349', '350', '351', '352', '353', '354', '355', '356', '357', '358', '360', '362', '363', '364', '366', '367', '368', '370', '371', '372', '373', '374', '375', '376', '377', '378', '379', '380', '381', '382', '383', '384', '385', '386', '387', '3838', '3090', '393', '394', '395', '397', '399', '400', '401', '402', '403', '404', '405', '406', '407', '408', '409', '410', '412', '414', '415', '416', '417', '418', '420', '421', '422', '423', '424', '425', '426', '427', '428', '429', '430', '431', '432', '433', '434', '435', '436', '437', '4338', '439', '440', '442', '443', '444', '445', '446', '447', '448', '450', '451', '452', '453', '454', '455', '456', '457', '458', '460', '461', '462', '463', '464', '466', '467', '468', '470', '471', '472']\n"
     ]
    }
   ],
   "source": [
    "numberlist = []\n",
    "for n in Chapter:\n",
    "    num = n[8:]\n",
    "    numberlist.append((num))\n",
    "uniquechapter = removeDuplicates(numberlist)\n",
    "print(uniquechapter)"
   ]
  },
  {
   "cell_type": "markdown",
   "metadata": {},
   "source": [
    "## Check if numbers are in a sequence by looking at the difference between n+1 , n-1 and n+2, n-2 (n = chapter number)"
   ]
  },
  {
   "cell_type": "code",
   "execution_count": 305,
   "metadata": {},
   "outputs": [
    {
     "name": "stdout",
     "output_type": "stream",
     "text": [
      "Definitely change middle number:  18 10 20\n",
      "These have numbers missing:  48 50 52\n",
      "These have numbers missing:  87 838 80\n",
      "These have numbers missing:  838 80 93\n",
      "Decide manually  97 08 99\n",
      "These have numbers missing:  08 99 103\n",
      "Definitely change middle number:  118 1109 120\n",
      "Definitely change middle number:  138 1309 140\n",
      "These have numbers missing:  190 102 193\n",
      "These have numbers missing:  102 193 1094\n",
      "Decide manually  193 1094 195\n",
      "Decide manually  1094 195 1096\n",
      "Definitely change middle number:  218 2109 220\n",
      "Definitely change middle number:  228 2209 230\n",
      "These have numbers missing:  290 2092 293\n",
      "These have numbers missing:  295 2097 298\n",
      "These have numbers missing:  358 360 362\n",
      "These have numbers missing:  387 3838 3090\n",
      "These have numbers missing:  3838 3090 393\n",
      "These have numbers missing:  395 397 399\n",
      "These have numbers missing:  410 412 414\n",
      "Definitely change middle number:  437 4338 439\n"
     ]
    },
    {
     "ename": "IndexError",
     "evalue": "list index out of range",
     "output_type": "error",
     "traceback": [
      "\u001b[1;31m---------------------------------------------------------------------------\u001b[0m",
      "\u001b[1;31mIndexError\u001b[0m                                Traceback (most recent call last)",
      "\u001b[1;32m<ipython-input-305-a8c975c59d74>\u001b[0m in \u001b[0;36m<module>\u001b[1;34m\u001b[0m\n\u001b[0;32m     16\u001b[0m         \u001b[0mprev_c\u001b[0m \u001b[1;33m=\u001b[0m \u001b[0mint\u001b[0m\u001b[1;33m(\u001b[0m\u001b[0muniquechapter\u001b[0m\u001b[1;33m[\u001b[0m\u001b[0mn\u001b[0m\u001b[1;33m-\u001b[0m\u001b[1;36m1\u001b[0m\u001b[1;33m]\u001b[0m\u001b[1;33m)\u001b[0m\u001b[1;33m\u001b[0m\u001b[1;33m\u001b[0m\u001b[0m\n\u001b[0;32m     17\u001b[0m         \u001b[0mback2\u001b[0m \u001b[1;33m=\u001b[0m \u001b[0mint\u001b[0m\u001b[1;33m(\u001b[0m\u001b[0muniquechapter\u001b[0m\u001b[1;33m[\u001b[0m\u001b[0mn\u001b[0m\u001b[1;33m-\u001b[0m\u001b[1;36m2\u001b[0m\u001b[1;33m]\u001b[0m\u001b[1;33m)\u001b[0m\u001b[1;33m\u001b[0m\u001b[1;33m\u001b[0m\u001b[0m\n\u001b[1;32m---> 18\u001b[1;33m         \u001b[0mskip2\u001b[0m \u001b[1;33m=\u001b[0m \u001b[0mint\u001b[0m\u001b[1;33m(\u001b[0m\u001b[0muniquechapter\u001b[0m\u001b[1;33m[\u001b[0m\u001b[0mn\u001b[0m\u001b[1;33m+\u001b[0m\u001b[1;36m2\u001b[0m\u001b[1;33m]\u001b[0m\u001b[1;33m)\u001b[0m\u001b[1;33m\u001b[0m\u001b[1;33m\u001b[0m\u001b[0m\n\u001b[0m\u001b[0;32m     19\u001b[0m         \u001b[1;32mif\u001b[0m \u001b[0mnext_c\u001b[0m \u001b[1;33m-\u001b[0m \u001b[0mm\u001b[0m  \u001b[1;33m!=\u001b[0m \u001b[1;36m1\u001b[0m \u001b[1;32mand\u001b[0m \u001b[0mm\u001b[0m \u001b[1;33m-\u001b[0m \u001b[0mprev_c\u001b[0m \u001b[1;33m!=\u001b[0m \u001b[1;36m1\u001b[0m\u001b[1;33m:\u001b[0m\u001b[1;33m\u001b[0m\u001b[1;33m\u001b[0m\u001b[0m\n\u001b[0;32m     20\u001b[0m             \u001b[1;32mif\u001b[0m  \u001b[0mnext_c\u001b[0m \u001b[1;33m-\u001b[0m \u001b[0mprev_c\u001b[0m \u001b[1;33m==\u001b[0m \u001b[1;36m2\u001b[0m \u001b[1;32mand\u001b[0m \u001b[0mskip2\u001b[0m \u001b[1;33m-\u001b[0m \u001b[0mback2\u001b[0m \u001b[1;33m==\u001b[0m \u001b[1;36m4\u001b[0m\u001b[1;33m:\u001b[0m\u001b[1;33m\u001b[0m\u001b[1;33m\u001b[0m\u001b[0m\n",
      "\u001b[1;31mIndexError\u001b[0m: list index out of range"
     ]
    }
   ],
   "source": [
    "# missing = []\n",
    "newuniquechap = []\n",
    "problem =[]\n",
    "for n in range(0, len(uniquechapter)-1):\n",
    "#     print(uniquechapter[n])\n",
    "#     print(int(n))\n",
    "    m = int(uniquechapter[n])\n",
    "\n",
    "    if m == 1: \n",
    "        next_c = int(uniquechapter[n+1])\n",
    "        prev_c = 0\n",
    "        skip2 = int(uniquechapter[n+2])\n",
    "        back2 = 0\n",
    "    else:\n",
    "        next_c = int(uniquechapter[n+1])\n",
    "        prev_c = int(uniquechapter[n-1])\n",
    "        back2 = int(uniquechapter[n-2])\n",
    "        skip2 = int(uniquechapter[n+2])\n",
    "        if next_c - m  != 1 and m - prev_c != 1:\n",
    "            if  next_c - prev_c == 2 and skip2 - back2 == 4:\n",
    "                print('Definitely change middle number: ',uniquechapter[n-1],uniquechapter[n],uniquechapter[n+1])\n",
    "            elif next_c - prev_c == 2 and (len(uniquechapter[n]) - len(uniquechapter[n-1])) <= 1:\n",
    "                print('Decide manually ',uniquechapter[n-1],uniquechapter[n],uniquechapter[n+1])\n",
    "            else:\n",
    "                print('These have numbers missing: ',uniquechapter[n-1],uniquechapter[n],uniquechapter[n+1])"
   ]
  }
 ],
 "metadata": {
  "kernelspec": {
   "display_name": "Python 3",
   "language": "python",
   "name": "python3"
  },
  "language_info": {
   "codemirror_mode": {
    "name": "ipython",
    "version": 3
   },
   "file_extension": ".py",
   "mimetype": "text/x-python",
   "name": "python",
   "nbconvert_exporter": "python",
   "pygments_lexer": "ipython3",
   "version": "3.7.3"
  }
 },
 "nbformat": 4,
 "nbformat_minor": 2
}
