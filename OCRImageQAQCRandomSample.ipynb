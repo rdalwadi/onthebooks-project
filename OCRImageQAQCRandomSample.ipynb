{
 "cells": [
  {
   "cell_type": "code",
   "execution_count": 1,
   "metadata": {},
   "outputs": [],
   "source": [
    "import numpy as np\n",
    "import csv\n",
    "from PIL import Image\n",
    "import os\n",
    "import random\n",
    "import xlsxwriter"
   ]
  },
  {
   "cell_type": "code",
   "execution_count": 49,
   "metadata": {},
   "outputs": [
    {
     "name": "stdout",
     "output_type": "stream",
     "text": [
      "['lawsresolutionso187374nor_private laws_data.csv', 'lawsresolutionso187374nor_public laws_data.csv', 'lawsresolutionso187475nor_private laws_data.csv', 'lawsresolutionso187475nor_public laws_data.csv', 'lawsresolutionso187677nor_private laws_data.csv', 'lawsresolutionso187677nor_public laws_data.csv', 'lawsresolutionso1879nort_private laws_data.csv', 'lawsresolutionso1879nort_public laws_data.csv', 'lawsresolutionso1880nort_private laws_data.csv', 'lawsresolutionso1880nort_public laws special_data.csv', 'lawsresolutionso1881nort_private laws_data.csv', 'lawsresolutionso1881nort_public laws_data.csv', 'lawsresolutionso1883nort_private laws_data.csv', 'lawsresolutionso1883nort_public laws_data.csv', 'lawsresolutionso1885nort_private laws_data.csv', 'lawsresolutionso1885nort_public laws_data.csv', 'lawsresolutionso1887nort_private laws_data.csv', 'lawsresolutionso1887nort_public laws_data.csv', 'lawsresolutionso1889nort_private laws_data.csv', 'lawsresolutionso1889nort_public laws_data.csv', 'lawsresolutionso1891nort_private laws_data.csv', 'lawsresolutionso1891nort_public laws_data.csv', 'privatelawsofsta186566nor_private laws general assembly_data.csv', 'privatelawsofsta186566nor_public laws general assembly_data.csv', 'privatelawsofsta186667nor_private laws_data.csv', 'privatelawsofsta186869nor_private laws_data.csv', 'privatelawsofsta186970nor_private laws_data.csv', 'privatelawsofsta187071nor_private laws_data.csv', 'privatelawsofsta187172nor_private laws_data.csv', 'privatelawsofsta1893nort_private laws_data.csv', 'privatelawsofsta1895nort_private laws_data.csv', 'privatelawsofsta1897nort_private laws_data.csv', 'privatelawsofsta1899nort_private laws_data.csv', 'privatelawsofsta1901nort_private laws_data.csv', 'privatelawsofsta1903nort_private laws_data.csv', 'privatelawsofsta1905nort_private laws_data.csv', 'privatelawsofsta1907nort_private laws_data.csv', 'privatelawsofsta1908nort_private laws extra_data.csv', 'privatelawsofsta1909nort_private laws_data.csv', 'privatelawsofsta1911nort_private laws_data.csv', 'privatelawsofsta1913nort_private laws_data.csv', 'privatelawsofsta1915nort_private laws_data.csv', 'publiclawsofstat186566nor_private laws general assembly_data.csv', 'publiclawsofstat186566nor_public laws general assembly special_data.csv', 'publiclawsofstat186566nor_public laws general assembly_data.csv', 'publiclawsofstat186667nor_public laws_data.csv', 'publiclawsofstat186869nor_public laws_data.csv', 'publiclawsofstat1868nort_private laws_data.csv', 'publiclawsofstat1868nort_public laws_data.csv', 'publiclawsofstat186970nor_public laws_data.csv', 'publiclawsofstat187071nor_public laws_data.csv', 'publiclawsofstat187172nor_public laws_data.csv', 'publiclawsresolu187273nor_private laws_data.csv', 'publiclawsresolu187273nor_public laws_data.csv', 'publiclawsresolu1893nort_public laws_data.csv', 'publiclawsresolu1895nort_public laws_data.csv', 'publiclawsresolu1897nort_public laws_data.csv', 'publiclawsresolu1899nort_public laws_data.csv', 'publiclawsresolu1900nort_private laws adjourned_data.csv', 'publiclawsresolu1900nort_public laws adjourned_data.csv', 'publiclawsresolu1901nort_public laws_data.csv', 'publiclawsresolu1903nort_public laws_data.csv', 'publiclawsresolu1905nort_public laws_data.csv', 'publiclawsresolu1907nort_public laws_data.csv', 'publiclawsresolu1908nort_public laws extra_data.csv', 'publiclawsresolu1909nort_public laws_data.csv', 'publiclawsresolu1911nort_public laws_data.csv', 'publiclawsresolu1913nort_public laws_data.csv', 'publiclawsresolu1915nort_public laws_data.csv', 'publiclawsresolu1917nort_public laws_data.csv', 'publiclawsresolu1919nort_public laws_data.csv', 'publiclawsresolu1920nort_public laws extra_data.csv', 'publiclawsresolu1921nort_public laws_data.csv', 'publiclawsresolu1923nort_public laws_data.csv', 'publiclawsresolu1924nort_public laws extra_data.csv', 'publiclawsresolu1925nort_public laws_data.csv', 'publiclawsresolu1927nort_public laws_data.csv', 'publiclawsresolu1929nort_public laws_data.csv', 'publiclawsresolu1931nort_public laws_data.csv', 'publiclawsresolu1933nort_public laws_data.csv', 'publiclawsresolu1935nort_public laws_data.csv', 'publiclawsresolu1936nort_public laws regular_data.csv', 'publiclawsresolu1936nort_public laws_data.csv', 'publiclawsresolu193839nor_public laws extra_data.csv', 'publiclawsresolu193839nor_public laws regular_data.csv', 'publiclawsresolu1941nort_public laws_data.csv', 'publiclawsresolx1921nort_public laws_data.csv', 'publiclocallawso1911nort_public local laws_data.csv', 'publiclocallawso1913nort_public local laws_data.csv', 'publiclocallawso1915nort_public local laws_data.csv', 'publiclocallawsp1917nort_private laws_data.csv', 'publiclocallawsp1917nort_public local laws_data.csv', 'publiclocallawsp1919nort_private laws_data.csv', 'publiclocallawsp1919nort_public local laws_data.csv', 'publiclocallawsp1921nort_private laws extra_data.csv', 'publiclocallawsp1921nort_public local extra_data.csv', 'publiclocallawsp1923nort_private laws_data.csv', 'publiclocallawsp1923nort_public local laws_data.csv', 'publiclocallawsp1924nort_private laws extra_data.csv', 'publiclocallawsp1924nort_public local extra_data.csv', 'publiclocallawsp1925nort_private laws_data.csv', 'publiclocallawsp1925nort_public local laws_data.csv', 'publiclocallawsp1927nort_private laws_data.csv', 'publiclocallawsp1927nort_public local laws_data.csv', 'publiclocallawsp1929nort_private laws_data.csv', 'publiclocallawsp1929nort_public local laws_data.csv', 'publiclocallawsp1931nort_private laws_data.csv', 'publiclocallawsp1931nort_public local laws_data.csv', 'publiclocallawsp1933nort_private laws_data.csv', 'publiclocallawsp1933nort_public local laws_data.csv', 'publiclocallawsp1935nort_private laws_data.csv', 'publiclocallawsp1935nort_public local laws_data.csv', 'publiclocallawsp1941nort_private laws_data.csv', 'publiclocallawsp1941nort_public local laws_data.csv', 'publiclocallawsp3839nort_private laws_data.csv', 'publiclocallawsp3839nort_public local extra_data.csv', 'publiclocallawsp3839nort_public local regular_data.csv', 'sessionlaws195657nort_session laws extra_data.csv', 'sessionlaws195657nort_session laws regular_data.csv', 'sessionlaws196365nort_session laws extra_data.csv', 'sessionlaws196365nort_session laws regular_data.csv', 'sessionlaws19656667nort_session laws extra_data.csv', 'sessionlaws19656667nort_session laws regular_data.csv', 'sessionlawsresol1943nort_session laws_data.csv', 'sessionlawsresol1945nort_session laws_data.csv', 'sessionlawsresol1947nort_session laws_data.csv', 'sessionlawsresol1949nort_session laws_data.csv', 'sessionlawsresol1951nort_session laws_data.csv', 'sessionlawsresol1953nort_session laws_data.csv', 'sessionlawsresol1955nort_session laws_data.csv', 'sessionlawsresol1959nort_session laws_data.csv', 'sessionlawsresol1961nort_session laws_data.csv', 'sessionlawsresol1963nort_session laws_data.csv']\n"
     ]
    }
   ],
   "source": [
    "# files = os.listdir('P:\\GIS\\onthebooks\\ocr_output\\CSVFilesofTSV')\n",
    "# files.remove('constitution&resolutions')\n",
    "print(files)"
   ]
  },
  {
   "cell_type": "code",
   "execution_count": 52,
   "metadata": {},
   "outputs": [],
   "source": [
    "filepath = r'P:\\GIS\\onthebooks\\ocr_output\\CSVFilesofTSV'\n",
    "text=[]\n",
    "dict1 = {}\n",
    "for file in files:\n",
    "    filename = filepath + '\\\\' + file\n",
    "    with open(filename, 'r') as f:\n",
    "        reader = csv.DictReader(f)\n",
    "        for line in reader:\n",
    "    #         print(line)\n",
    "            if int(line['conf']) != -1:\n",
    "                width1 = int(line['width']) + int(line['left'])\n",
    "                height1 = int(line['top']) + int(line['height'])\n",
    "                tuple1 = ((int(line['left']),int(line['top']), width1, height1, int(line['conf']), line['name']))\n",
    "    #             print(tuple1)\n",
    "                dict1[line['text']] = tuple1\n",
    "# print(dict1)"
   ]
  },
  {
   "cell_type": "code",
   "execution_count": 55,
   "metadata": {},
   "outputs": [],
   "source": [
    "sample = random.sample(dict1.items(), 2000)"
   ]
  },
  {
   "cell_type": "code",
   "execution_count": 58,
   "metadata": {},
   "outputs": [
    {
     "data": {
      "text/plain": [
       "358537"
      ]
     },
     "execution_count": 58,
     "metadata": {},
     "output_type": "execute_result"
    }
   ],
   "source": [
    "len(dict1.items())"
   ]
  },
  {
   "cell_type": "code",
   "execution_count": 56,
   "metadata": {},
   "outputs": [],
   "source": [
    "m=0\n",
    "for item in sample:\n",
    "    pagename = item[1][5]\n",
    "#     print(item[0],pagename)\n",
    "    newname = 'EM_' + pagename\n",
    "    foldername = pagename[:-9] + '_jp2_nomargins_nohead'\n",
    "    filepath = r'P:\\GIS\\onthebooks\\1865-1968_jp2_nomarginalia' + '\\\\' + foldername +'\\\\'+ newname\n",
    "#     print(filepath)\n",
    "    img = Image.open(filepath)\n",
    "    cropcoords = (item[1][0],item[1][1], item[1][2], item[1][3])\n",
    "#         print(cropcoords)\n",
    "    m+= 1\n",
    "    im = img.crop(cropcoords)\n",
    "    im.save(\"P:\\GIS\\onthebooks\\croppedjp2wordsall\\cropped\" +str(m)+\".jpeg\", 'jpeg')"
   ]
  },
  {
   "cell_type": "code",
   "execution_count": 60,
   "metadata": {},
   "outputs": [],
   "source": [
    "workbook = xlsxwriter.Workbook('P:\\GIS\\onthebooks\\OCRCropQAQC.xlsx')\n",
    "worksheet = workbook.add_worksheet()\n",
    "worksheet.write('A1','text')\n",
    "worksheet.write('B1','wordsampleImage')\n",
    "worksheet.write('C1','pageName')\n",
    "c=0\n",
    "for n in sample:\n",
    "    c += 1\n",
    "#     print(n[0])\n",
    "    worksheet.write('A'+str(c+1), n[0])\n",
    "    worksheet.insert_image('B'+str(c+1), 'P:\\GIS\\onthebooks\\croppedjp2wordsall\\cropped'+str(c)+'.jpeg',{'x_scale': 0.4, 'y_scale': 0.6})\n",
    "    worksheet.write('C'+str(c+1), n[1][5])\n",
    "workbook.close()"
   ]
  },
  {
   "cell_type": "code",
   "execution_count": null,
   "metadata": {},
   "outputs": [],
   "source": []
  }
 ],
 "metadata": {
  "kernelspec": {
   "display_name": "Python 3",
   "language": "python",
   "name": "python3"
  },
  "language_info": {
   "codemirror_mode": {
    "name": "ipython",
    "version": 3
   },
   "file_extension": ".py",
   "mimetype": "text/x-python",
   "name": "python",
   "nbconvert_exporter": "python",
   "pygments_lexer": "ipython3",
   "version": "3.7.3"
  }
 },
 "nbformat": 4,
 "nbformat_minor": 2
}
