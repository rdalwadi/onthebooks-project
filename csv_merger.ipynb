{
 "cells": [
  {
   "cell_type": "markdown",
   "metadata": {},
   "source": [
    "# CSV Merger \n",
    "The following code merges all the sheets in the excel files and creates a single csv file with data from all the files. Each file consists volume wise data such as the page image filename, logical page number, title of the section, section type, a link to the jpeg image. The csv concatenates all the data into a single sheet. "
   ]
  },
  {
   "cell_type": "code",
   "execution_count": null,
   "metadata": {},
   "outputs": [],
   "source": [
    "import os\n",
    "import os.path\n",
    "from os import path\n",
    "import csv\n",
    "import pandas as pd\n",
    "from pandas import Series\n",
    "import sys"
   ]
  },
  {
   "cell_type": "code",
   "execution_count": null,
   "metadata": {},
   "outputs": [],
   "source": [
    "excel_sheets = ['SectionsRenamed-Privt-Laws-Reso-FileListsForOCR.xlsx','SectionsRenamed-publiclawsFileListOCR.xlsx','SectionsRenamed-PublicLocalSp.xlsx','SectionsRenamedsessionlaws.xlsx']\n",
    "sheet_to_df_map = []\n",
    "df_list = []\n",
    "for file in excel_sheets:\n",
    "    sheet_to_df_map.append(pd.read_excel(file, sheet_name=None))\n",
    "\n",
    "for n in sheet_to_df_map:\n",
    "    df_list.append(pd.concat(n[frame] for frame in n.keys()))"
   ]
  },
  {
   "cell_type": "code",
   "execution_count": null,
   "metadata": {},
   "outputs": [],
   "source": [
    "df1 = df_list[0]\n",
    "df2 = df_list[1]\n",
    "df3 = df_list[2]\n",
    "df4 = df_list[3]\n",
    "\n",
    "verticalstack = pd.concat([df1,df2,df3,df4], axis=0)\n",
    "# writer = pd.ExcelWriter('mergedsheets.xlsx', engine='xlsxwriter')\n",
    "verticalstack.to_csv('mergedsheets.csv', index =False)\n",
    "# writer.save()"
   ]
  }
 ],
 "metadata": {
  "kernelspec": {
   "display_name": "Python 3",
   "language": "python",
   "name": "python3"
  },
  "language_info": {
   "codemirror_mode": {
    "name": "ipython",
    "version": 3
   },
   "file_extension": ".py",
   "mimetype": "text/x-python",
   "name": "python",
   "nbconvert_exporter": "python",
   "pygments_lexer": "ipython3",
   "version": "3.7.3"
  }
 },
 "nbformat": 4,
 "nbformat_minor": 2
}
