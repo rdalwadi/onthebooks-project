{
 "cells": [
  {
   "cell_type": "code",
   "execution_count": null,
   "metadata": {
    "scrolled": true
   },
   "outputs": [],
   "source": [
    "import urllib.request\n",
    "import os\n",
    "import os.path\n",
    "from os import path\n",
    "import csv\n",
    "import time\n",
    "\n",
    "os.chdir(r\"P:\\GIS\\onthebooks\\Rucha\\jpegs_for_review\")\n",
    "folderdict = {}\n",
    "with open(\"remainder.csv\",\"r\") as folders:\n",
    "    reader=csv.DictReader(folders)\n",
    "    for i in reader:\n",
    "        folder = i['folder']\n",
    "        folder=folder.strip('\\xa0')\n",
    "        folderdict[folder] = i['pages']\n",
    "#print(folderdict.items())  \n"
   ]
  },
  {
   "cell_type": "code",
   "execution_count": null,
   "metadata": {},
   "outputs": [],
   "source": [
    "sourcelink = 'https://archive.org/download'  # A single web source contains all the files to download\n",
    "path = \"P:\\GIS\\onthebooks\\Rucha\\jpegs_for_review\"\n",
    "    \n",
    "for file, pages in folderdict.items():\n",
    "    newpath = path +'\\\\'+ file[:-4] + '_jpeg'\n",
    "    #print(newpath)\n",
    "    if not os.path.exists(newpath):\n",
    "        os.makedirs(newpath)\n",
    "        os.chdir(newpath)\n",
    "        for n in range (-1, int(pages)-1):\n",
    "            n = n + 1\n",
    "            pgct = '%04d' % n\n",
    "            #print(pgct)\n",
    "            full_link = sourcelink+'/'+file[:-4]+'/'+file+'.zip'+'/'+file+'%2F'+file[:-4]+'_'+pgct+'.jpg'  # A download link is created for each file by appending the id and file extension to the source \n",
    "            urllib.request.urlretrieve(full_link,file[:-3]+pgct+'.jpg')\n",
    "            \n",
    "    else:\n",
    "        os.chdir(newpath)\n",
    "        for n in range (-1, int(pages)-1):\n",
    "            n = n + 1\n",
    "            pgct = '%04d' % n\n",
    "            if not os.path.exists(newpath+\"'\\'\"+file[:-3]+pgct+'.jpg'):\n",
    "                full_link = sourcelink+'/'+file[:-4]+'/'+file+'.zip'+'/'+file+'%2F'+file[:-4]+'_'+pgct+'.jpg'  # A download link is created for each file by appending the id and file extension to the source \n",
    "                urllib.request.urlretrieve(full_link,file[:-3]+pgct+'.jpg')\n",
    "           "
   ]
  },
  {
   "cell_type": "code",
   "execution_count": null,
   "metadata": {},
   "outputs": [],
   "source": []
  }
 ],
 "metadata": {
  "kernelspec": {
   "display_name": "Python 3",
   "language": "python",
   "name": "python3"
  },
  "language_info": {
   "codemirror_mode": {
    "name": "ipython",
    "version": 3
   },
   "file_extension": ".py",
   "mimetype": "text/x-python",
   "name": "python",
   "nbconvert_exporter": "python",
   "pygments_lexer": "ipython3",
   "version": "3.7.3"
  }
 },
 "nbformat": 4,
 "nbformat_minor": 2
}
