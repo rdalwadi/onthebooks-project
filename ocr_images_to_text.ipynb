{
 "cells": [
  {
   "cell_type": "code",
   "execution_count": 7,
   "metadata": {},
   "outputs": [
    {
     "name": "stdout",
     "output_type": "stream",
     "text": [
      "[('OF', (857, 207, 52, 28), '96', 'privatelawsofsta1895nort_0023.jp2'), ('THE', (931, 207, 80, 27), '96', 'privatelawsofsta1895nort_0023.jp2'), ('STATE', (211, 300, 291, 68), '95', 'privatelawsofsta1895nort_0023.jp2'), ('OF', (554, 299, 123, 66), '93', 'privatelawsofsta1895nort_0023.jp2'), ('NORTH', (730, 298, 344, 66), '93', 'privatelawsofsta1895nort_0023.jp2'), ('CAROLINA,', (1129, 296, 529, 74), '96', 'privatelawsofsta1895nort_0023.jp2'), ('SESSION', (669, 429, 250, 44), '96', 'privatelawsofsta1895nort_0023.jp2'), ('OF', (947, 428, 75, 45), '96', 'privatelawsofsta1895nort_0023.jp2'), ('1895.', (1048, 431, 146, 40), '96', 'privatelawsofsta1895nort_0023.jp2'), ('CHAPTER', (789, 613, 201, 35), '96', 'privatelawsofsta1895nort_0023.jp2'), ('1.', (993, 613, 86, 34), '93', 'privatelawsofsta1895nort_0023.jp2'), ('An', (214, 717, 53, 37), '96', 'privatelawsofsta1895nort_0023.jp2'), ('act', (282, 717, 62, 37), '94', 'privatelawsofsta1895nort_0023.jp2'), ('to', (358, 716, 40, 37), '94', 'privatelawsofsta1895nort_0023.jp2'), ('amend', (413, 715, 126, 38), '95', 'privatelawsofsta1895nort_0023.jp2'), ('the', (555, 715, 62, 37), '95', 'privatelawsofsta1895nort_0023.jp2'), ('charter', (632, 715, 148, 38), '96', 'privatelawsofsta1895nort_0023.jp2'), ('of', (795, 714, 43, 38), '96', 'privatelawsofsta1895nort_0023.jp2'), ('the', (849, 714, 62, 38), '96', 'privatelawsofsta1895nort_0023.jp2'), ('town', (925, 715, 95, 37), '95', 'privatelawsofsta1895nort_0023.jp2'), ('of', (1037, 714, 42, 37), '96', 'privatelawsofsta1895nort_0023.jp2'), ('Mount', (1100, 714, 119, 37), '96', 'privatelawsofsta1895nort_0023.jp2'), ('Airy,', (1236, 713, 100, 45), '96', 'privatelawsofsta1895nort_0023.jp2'), ('North', (1355, 714, 110, 37), '96', 'privatelawsofsta1895nort_0023.jp2'), ('Carolina.', (1483, 713, 182, 39), '96', 'privatelawsofsta1895nort_0023.jp2'), ('The', (212, 803, 84, 35), '75', 'privatelawsofsta1895nort_0023.jp2'), ('General', (313, 802, 165, 37), '96', 'privatelawsofsta1895nort_0023.jp2'), ('Assembly', (493, 801, 195, 45), '95', 'privatelawsofsta1895nort_0023.jp2'), ('of', (701, 801, 48, 45), '95', 'privatelawsofsta1895nort_0023.jp2'), ('North', (768, 801, 126, 36), '96', 'privatelawsofsta1895nort_0023.jp2'), ('Carolina', (911, 801, 189, 36), '96', 'privatelawsofsta1895nort_0023.jp2'), ('do', (1114, 801, 51, 35), '96', 'privatelawsofsta1895nort_0023.jp2'), ('enact', (1180, 801, 112, 35), '85', 'privatelawsofsta1895nort_0023.jp2'), (':', (1305, 812, 12, 23), '85', 'privatelawsofsta1895nort_0023.jp2'), ('Section', (251, 873, 168, 36), '83', 'privatelawsofsta1895nort_0023.jp2'), ('1.', (439, 873, 29, 34), '93', 'privatelawsofsta1895nort_0023.jp2'), ('That', (495, 872, 100, 35), '96', 'privatelawsofsta1895nort_0023.jp2'), ('chapter', (618, 872, 160, 44), '95', 'privatelawsofsta1895nort_0023.jp2'), ('fourteen', (805, 872, 175, 35), '96', 'privatelawsofsta1895nort_0023.jp2'), ('of', (1003, 871, 43, 35), '96', 'privatelawsofsta1895nort_0023.jp2'), ('the', (1069, 871, 66, 35), '96', 'privatelawsofsta1895nort_0023.jp2'), ('laws', (1162, 871, 93, 35), '96', 'privatelawsofsta1895nort_0023.jp2'), ('of', (1269, 871, 43, 35), '96', 'privatelawsofsta1895nort_0023.jp2'), ('North', (1334, 870, 123, 36), '96', 'privatelawsofsta1895nort_0023.jp2'), ('Carolina,', (1474, 870, 191, 42), '96', 'privatelawsofsta1895nort_0023.jp2'), ('eighteen', (209, 929, 179, 45), '96', 'privatelawsofsta1895nort_0023.jp2'), ('hundred', (421, 928, 175, 36), '96', 'privatelawsofsta1895nort_0023.jp2'), ('and', (627, 928, 76, 35), '93', 'privatelawsofsta1895nort_0023.jp2'), ('ninety-three,', (737, 927, 272, 44), '90', 'privatelawsofsta1895nort_0023.jp2'), ('Private', (1042, 927, 156, 35), '96', 'privatelawsofsta1895nort_0023.jp2'), ('Acts,', (1228, 928, 106, 40), '95', 'privatelawsofsta1895nort_0023.jp2'), ('amending', (1362, 927, 211, 44), '96', 'privatelawsofsta1895nort_0023.jp2'), ('the', (1603, 927, 66, 35), '96', 'privatelawsofsta1895nort_0023.jp2'), ('charter', (205, 985, 157, 36), '96', 'privatelawsofsta1895nort_0023.jp2'), ('of', (375, 985, 44, 36), '95', 'privatelawsofsta1895nort_0023.jp2'), ('the', (434, 985, 66, 36), '96', 'privatelawsofsta1895nort_0023.jp2'), ('town', (517, 990, 105, 30), '95', 'privatelawsofsta1895nort_0023.jp2'), ('of', (638, 985, 42, 35), '95', 'privatelawsofsta1895nort_0023.jp2'), ('Mount', (706, 984, 135, 36), '95', 'privatelawsofsta1895nort_0023.jp2'), ('Airy,', (856, 984, 110, 45), '95', 'privatelawsofsta1895nort_0023.jp2'), ('down', (990, 984, 115, 35), '96', 'privatelawsofsta1895nort_0023.jp2'), ('to', (1124, 989, 40, 30), '95', 'privatelawsofsta1895nort_0023.jp2'), ('the', (1180, 984, 65, 35), '96', 'privatelawsofsta1895nort_0023.jp2'), ('word', (1261, 983, 105, 36), '96', 'privatelawsofsta1895nort_0023.jp2'), ('“for”', (1392, 984, 116, 35), '52', 'privatelawsofsta1895nort_0023.jp2'), ('in', (1510, 984, 65, 34), '93', 'privatelawsofsta1895nort_0023.jp2'), ('sec-', (1591, 994, 78, 25), '92', 'privatelawsofsta1895nort_0023.jp2'), ('tion', (206, 1043, 84, 35), '95', 'privatelawsofsta1895nort_0023.jp2'), ('two', (306, 1047, 80, 30), '95', 'privatelawsofsta1895nort_0023.jp2'), ('in', (412, 1042, 38, 34), '96', 'privatelawsofsta1895nort_0023.jp2'), ('line', (470, 1042, 77, 35), '96', 'privatelawsofsta1895nort_0023.jp2'), ('nine,', (562, 1042, 104, 40), '96', 'privatelawsofsta1895nort_0023.jp2'), ('be', (685, 1041, 45, 35), '95', 'privatelawsofsta1895nort_0023.jp2'), ('and', (745, 1041, 75, 35), '95', 'privatelawsofsta1895nort_0023.jp2'), ('the', (851, 1041, 66, 35), '96', 'privatelawsofsta1895nort_0023.jp2'), ('same', (939, 1051, 106, 25), '95', 'privatelawsofsta1895nort_0023.jp2'), ('is', (1061, 1041, 31, 35), '95', 'privatelawsofsta1895nort_0023.jp2'), ('hereby', (1116, 1041, 141, 44), '96', 'privatelawsofsta1895nort_0023.jp2'), ('repealed;', (1281, 1041, 190, 44), '96', 'privatelawsofsta1895nort_0023.jp2'), ('that', (1495, 1041, 85, 35), '96', 'privatelawsofsta1895nort_0023.jp2'), ('the', (1603, 1041, 66, 35), '96', 'privatelawsofsta1895nort_0023.jp2'), ('mayor', (206, 1108, 136, 35), '96', 'privatelawsofsta1895nort_0023.jp2'), ('and', (356, 1098, 76, 36), '96', 'privatelawsofsta1895nort_0023.jp2'), ('town', (462, 1103, 106, 31), '96', 'privatelawsofsta1895nort_0023.jp2'), ('commissioners', (596, 1098, 310, 36), '92', 'privatelawsofsta1895nort_0023.jp2'), ('hold', (929, 1097, 88, 36), '96', 'privatelawsofsta1895nort_0023.jp2'), ('their', (1043, 1098, 100, 35), '96', 'privatelawsofsta1895nort_0023.jp2'), ('office', (1169, 1098, 111, 35), '96', 'privatelawsofsta1895nort_0023.jp2'), ('until', (1306, 1097, 99, 36), '95', 'privatelawsofsta1895nort_0023.jp2'), ('the', (1427, 1097, 66, 36), '96', 'privatelawsofsta1895nort_0023.jp2'), ('regular', (1517, 1098, 152, 44), '96', 'privatelawsofsta1895nort_0023.jp2'), ('election', (204, 1155, 164, 36), '96', 'privatelawsofsta1895nort_0023.jp2'), ('as', (394, 1165, 44, 26), '96', 'privatelawsofsta1895nort_0023.jp2'), ('provided', (468, 1154, 185, 46), '96', 'privatelawsofsta1895nort_0023.jp2'), ('for', (684, 1155, 61, 35), '96', 'privatelawsofsta1895nort_0023.jp2'), ('by', (761, 1155, 49, 44), '95', 'privatelawsofsta1895nort_0023.jp2'), ('law', (828, 1154, 74, 36), '96', 'privatelawsofsta1895nort_0023.jp2'), ('prior', (931, 1155, 102, 44), '96', 'privatelawsofsta1895nort_0023.jp2'), ('to', (1058, 1160, 39, 30), '96', 'privatelawsofsta1895nort_0023.jp2'), ('the', (1113, 1154, 66, 36), '96', 'privatelawsofsta1895nort_0023.jp2'), ('passage', (1206, 1164, 158, 35), '96', 'privatelawsofsta1895nort_0023.jp2'), ('of', (1387, 1155, 43, 35), '95', 'privatelawsofsta1895nort_0023.jp2'), ('the', (1455, 1154, 65, 36), '92', 'privatelawsofsta1895nort_0023.jp2'), ('above-', (1534, 1154, 132, 36), '92', 'privatelawsofsta1895nort_0023.jp2'), ('named', (206, 1212, 142, 36), '96', 'privatelawsofsta1895nort_0023.jp2'), ('act,', (364, 1217, 77, 36), '96', 'privatelawsofsta1895nort_0023.jp2'), ('eighteen', (455, 1212, 179, 44), '96', 'privatelawsofsta1895nort_0023.jp2'), ('hundred', (646, 1211, 177, 36), '96', 'privatelawsofsta1895nort_0023.jp2'), ('and', (836, 1212, 77, 35), '92', 'privatelawsofsta1895nort_0023.jp2'), ('ninety-three,', (927, 1212, 270, 44), '91', 'privatelawsofsta1895nort_0023.jp2'), ('amending', (1214, 1212, 210, 44), '96', 'privatelawsofsta1895nort_0023.jp2'), ('the', (1436, 1211, 64, 36), '96', 'privatelawsofsta1895nort_0023.jp2'), ('charter', (1515, 1211, 156, 36), '96', 'privatelawsofsta1895nort_0023.jp2'), ('of', (203, 1269, 46, 36), '96', 'privatelawsofsta1895nort_0023.jp2'), ('the', (264, 1269, 66, 36), '96', 'privatelawsofsta1895nort_0023.jp2'), ('town', (346, 1275, 105, 29), '96', 'privatelawsofsta1895nort_0023.jp2'), ('of', (467, 1269, 43, 35), '96', 'privatelawsofsta1895nort_0023.jp2'), ('Mount', (533, 1269, 135, 36), '96', 'privatelawsofsta1895nort_0023.jp2'), ('Airy,', (683, 1269, 111, 44), '96', 'privatelawsofsta1895nort_0023.jp2'), ('North', (813, 1268, 121, 36), '96', 'privatelawsofsta1895nort_0023.jp2'), ('Carolina.', (951, 1268, 190, 36), '94', 'privatelawsofsta1895nort_0023.jp2'), ('_', (206, 1349, 3, 4), '50', 'privatelawsofsta1895nort_0023.jp2'), ('Sec.', (249, 1326, 87, 36), '83', 'privatelawsofsta1895nort_0023.jp2'), ('2.', (355, 1326, 32, 35), '94', 'privatelawsofsta1895nort_0023.jp2'), ('That', (414, 1326, 100, 35), '96', 'privatelawsofsta1895nort_0023.jp2'), ('the', (531, 1325, 67, 36), '96', 'privatelawsofsta1895nort_0023.jp2'), ('commissioners', (612, 1326, 310, 35), '96', 'privatelawsofsta1895nort_0023.jp2'), ('of', (936, 1326, 44, 35), '96', 'privatelawsofsta1895nort_0023.jp2'), ('the', (1003, 1326, 66, 34), '96', 'privatelawsofsta1895nort_0023.jp2'), ('town', (1084, 1330, 105, 31), '96', 'privatelawsofsta1895nort_0023.jp2'), ('of', (1204, 1325, 43, 36), '96', 'privatelawsofsta1895nort_0023.jp2'), ('Mount', (1270, 1325, 136, 36), '96', 'privatelawsofsta1895nort_0023.jp2'), ('Airy', (1420, 1326, 95, 44), '96', 'privatelawsofsta1895nort_0023.jp2'), ('be', (1531, 1325, 47, 36), '96', 'privatelawsofsta1895nort_0023.jp2'), ('and', (1591, 1326, 76, 35), '95', 'privatelawsofsta1895nort_0023.jp2'), ('they', (205, 1382, 92, 45), '96', 'privatelawsofsta1895nort_0023.jp2'), ('are', (313, 1392, 66, 26), '96', 'privatelawsofsta1895nort_0023.jp2'), ('hereby', (393, 1382, 140, 45), '96', 'privatelawsofsta1895nort_0023.jp2'), ('required', (550, 1383, 178, 45), '96', 'privatelawsofsta1895nort_0023.jp2'), ('to', (754, 1387, 40, 31), '95', 'privatelawsofsta1895nort_0023.jp2'), ('establish', (808, 1382, 181, 36), '95', 'privatelawsofsta1895nort_0023.jp2'), ('two', (1004, 1387, 80, 31), '96', 'privatelawsofsta1895nort_0023.jp2'), ('wards', (1104, 1382, 127, 36), '96', 'privatelawsofsta1895nort_0023.jp2'), ('in', (1247, 1382, 39, 35), '95', 'privatelawsofsta1895nort_0023.jp2'), ('and', (1309, 1382, 77, 36), '95', 'privatelawsofsta1895nort_0023.jp2'), ('for', (1404, 1383, 62, 35), '96', 'privatelawsofsta1895nort_0023.jp2'), ('the', (1482, 1382, 66, 36), '96', 'privatelawsofsta1895nort_0023.jp2'), ('town', (1564, 1388, 105, 30), '96', 'privatelawsofsta1895nort_0023.jp2'), ('of', (205, 1439, 44, 36), '96', 'privatelawsofsta1895nort_0023.jp2'), ('Mount', (270, 1439, 138, 36), '95', 'privatelawsofsta1895nort_0023.jp2'), ('Airy', (435, 1440, 95, 43), '96', 'privatelawsofsta1895nort_0023.jp2'), ('nearly', (549, 1439, 134, 45), '96', 'privatelawsofsta1895nort_0023.jp2'), ('equal', (710, 1440, 112, 44), '96', 'privatelawsofsta1895nort_0023.jp2'), ('in', (848, 1440, 38, 34), '95', 'privatelawsofsta1895nort_0023.jp2'), ('voting', (916, 1440, 134, 44), '96', 'privatelawsofsta1895nort_0023.jp2'), ('strength,', (1071, 1439, 190, 45), '83', 'privatelawsofsta1895nort_0023.jp2'), ('and', (1285, 1440, 76, 35), '96', 'privatelawsofsta1895nort_0023.jp2'), ('they', (1387, 1440, 91, 44), '96', 'privatelawsofsta1895nort_0023.jp2'), ('shall', (1501, 1440, 98, 35), '95', 'privatelawsofsta1895nort_0023.jp2'), ('be', (1624, 1440, 46, 35), '96', 'privatelawsofsta1895nort_0023.jp2'), ('established', (207, 1496, 229, 36), '96', 'privatelawsofsta1895nort_0023.jp2'), ('on', (461, 1506, 50, 26), '96', 'privatelawsofsta1895nort_0023.jp2'), ('or', (541, 1506, 45, 25), '96', 'privatelawsofsta1895nort_0023.jp2'), ('before', (602, 1496, 130, 36), '96', 'privatelawsofsta1895nort_0023.jp2'), ('January', (746, 1496, 175, 45), '96', 'privatelawsofsta1895nort_0023.jp2'), ('first,', (939, 1496, 96, 42), '96', 'privatelawsofsta1895nort_0023.jp2'), ('A.', (1054, 1498, 45, 33), '93', 'privatelawsofsta1895nort_0023.jp2'), ('D.', (1128, 1496, 43, 36), '55', 'privatelawsofsta1895nort_0023.jp2'), ('eighteen', (1189, 1496, 176, 45), '96', 'privatelawsofsta1895nort_0023.jp2'), ('hundred', (1390, 1496, 174, 36), '96', 'privatelawsofsta1895nort_0023.jp2'), ('and', (1592, 1497, 77, 35), '96', 'privatelawsofsta1895nort_0023.jp2'), ('ninety-six,', (213, 1553, 221, 45), '92', 'privatelawsofsta1895nort_0023.jp2'), ('in', (454, 1554, 39, 34), '96', 'privatelawsofsta1895nort_0023.jp2'), ('each', (509, 1553, 95, 35), '96', 'privatelawsofsta1895nort_0023.jp2'), ('of', (617, 1554, 43, 35), '96', 'privatelawsofsta1895nort_0023.jp2'), ('which', (677, 1553, 127, 36), '96', 'privatelawsofsta1895nort_0023.jp2'), ('wards', (823, 1553, 106, 35), '96', 'privatelawsofsta1895nort_0023.jp2'), ('there', (932, 1553, 138, 36), '96', 'privatelawsofsta1895nort_0023.jp2'), ('shall', (1080, 1553, 98, 36), '96', 'privatelawsofsta1895nort_0023.jp2'), ('be', (1193, 1554, 44, 35), '96', 'privatelawsofsta1895nort_0023.jp2'), ('established', (1249, 1553, 228, 36), '96', 'privatelawsofsta1895nort_0023.jp2'), ('a', (1494, 1564, 25, 25), '96', 'privatelawsofsta1895nort_0023.jp2'), ('voting', (1534, 1554, 136, 45), '96', 'privatelawsofsta1895nort_0023.jp2'), ('precinct', (212, 1611, 172, 43), '96', 'privatelawsofsta1895nort_0023.jp2'), ('which,', (399, 1610, 141, 41), '96', 'privatelawsofsta1895nort_0023.jp2'), ('after', (556, 1611, 104, 35), '96', 'privatelawsofsta1895nort_0023.jp2'), ('January', (669, 1610, 150, 36), '96', 'privatelawsofsta1895nort_0023.jp2'), ('first,', (819, 1610, 135, 44), '96', 'privatelawsofsta1895nort_0023.jp2'), ('eighteen', (971, 1611, 176, 44), '96', 'privatelawsofsta1895nort_0023.jp2'), ('hundred', (1163, 1611, 173, 35), '96', 'privatelawsofsta1895nort_0023.jp2'), ('and', (1349, 1611, 76, 35), '93', 'privatelawsofsta1895nort_0023.jp2'), ('ninety-six,', (1443, 1611, 223, 44), '91', 'privatelawsofsta1895nort_0023.jp2'), ('shall', (216, 1667, 97, 36), '96', 'privatelawsofsta1895nort_0023.jp2'), ('be', (336, 1667, 46, 35), '96', 'privatelawsofsta1895nort_0023.jp2'), ('used', (404, 1667, 91, 35), '95', 'privatelawsofsta1895nort_0023.jp2'), ('exclusively', (519, 1667, 237, 44), '96', 'privatelawsofsta1895nort_0023.jp2'), ('by', (781, 1667, 49, 44), '96', 'privatelawsofsta1895nort_0023.jp2'), ('voters', (855, 1673, 127, 30), '96', 'privatelawsofsta1895nort_0023.jp2'), ('of', (1004, 1668, 42, 35), '96', 'privatelawsofsta1895nort_0023.jp2'), ('said', (1068, 1667, 81, 36), '96', 'privatelawsofsta1895nort_0023.jp2')]\n"
     ]
    }
   ],
   "source": [
    "import csv\n",
    "from PIL import Image\n",
    "import os\n",
    "import xlsxwriter\n",
    "filename = r'C:\\Users\\rdalwadi\\Documents\\lawpdfs\\privatelawsofsta1895nort_private laws_data.tsv'\n",
    "\n",
    "text=[]\n",
    "# dict1 = {}\n",
    "tuplelist = []\n",
    "with open(filename, 'r') as tsv:\n",
    "    reader = csv.DictReader(tsv, dialect='excel-tab')\n",
    "    for line in reader:     \n",
    "        if int(line['conf']) != -1:\n",
    "            width=(int(line['left']))+(int(line['width']))\n",
    "            height=(int(line['height']))+(int(line['top']))\n",
    "#             print(width)\n",
    "#             print(height)\n",
    "            tuple1 = (line['text'],((int(line['left']),int(line['top']), int(line['width']), int(line['height']))), line['conf'], line['name'])\n",
    "            tuplelist.append(tuple1)\n",
    "print(tuplelist[:200])"
   ]
  },
  {
   "cell_type": "code",
   "execution_count": 48,
   "metadata": {},
   "outputs": [],
   "source": [
    "\n",
    "#     m=0\n",
    "#     for k,v in dict1.items():\n",
    "#         m+= 1\n",
    "#         im = img.crop(k)\n",
    "#         im.save(\"P:\\GIS\\onthebooks\\croppedjp2words\\cropped\" +str(m)+\".jpeg\", 'jpeg')\n",
    "#     #     im.show()"
   ]
  },
  {
   "cell_type": "code",
   "execution_count": 112,
   "metadata": {},
   "outputs": [],
   "source": [
    "workbook = xlsxwriter.Workbook('P:\\GIS\\onthebooks\\images.xlsx')\n",
    "worksheet = workbook.add_worksheet()\n",
    "worksheet.write('A1','text')\n",
    "worksheet.write('B1','wordImage')\n",
    "for n in range(0,len(text)):\n",
    "    worksheet.write('A'+str(n+2), text[n])\n",
    "    worksheet.insert_image('B'+str(n+2), 'P:\\GIS\\onthebooks\\croppedjp2words\\cropped'+str(n+1)+'.jpeg',{'x_scale': 0.5, 'y_scale': 0.5})\n",
    "workbook.close()"
   ]
  }
 ],
 "metadata": {
  "kernelspec": {
   "display_name": "Python 3",
   "language": "python",
   "name": "python3"
  },
  "language_info": {
   "codemirror_mode": {
    "name": "ipython",
    "version": 3
   },
   "file_extension": ".py",
   "mimetype": "text/x-python",
   "name": "python",
   "nbconvert_exporter": "python",
   "pygments_lexer": "ipython3",
   "version": "3.7.3"
  }
 },
 "nbformat": 4,
 "nbformat_minor": 2
}
