{
 "cells": [
  {
   "cell_type": "code",
   "execution_count": 1,
   "metadata": {},
   "outputs": [],
   "source": [
    "import numpy as np\n",
    "import csv\n",
    "from PIL import Image\n",
    "import os\n",
    "import random\n",
    "import xlsxwriter"
   ]
  },
  {
   "cell_type": "code",
   "execution_count": 1,
   "metadata": {},
   "outputs": [],
   "source": [
    "filename = r'P:\\GIS\\onthebooks\\tesstest_ocr_output.csv'\n",
    "text=[]\n",
    "dict1 = {}\n",
    "\n",
    "with open(filename, 'r') as f:\n",
    "    reader = csv.DictReader(f)\n",
    "    for line in reader:     \n",
    "        if int(line['conf']) != -1:\n",
    "            tuple1 = ((int(line['left']),int(line['top']), int(line['width1']), int(line['height1'])), int(line['conf']))\n",
    "            \n",
    "#             print(tuple1)\n",
    "            dict1[line['text']] = tuple1\n",
    "# print(dict1)\n",
    "#             text.append(line['text'])"
   ]
  },
  {
   "cell_type": "code",
   "execution_count": null,
   "metadata": {},
   "outputs": [],
   "source": [
    "img = Image.open(r'P:\\GIS\\onthebooks\\1865-1968_jp2_nomarginalia\\lawsresolutionso1880nort_jp2_nomargins_nohead\\EM_lawsresolutionso1880nort_0029.jp2')\n",
    "m=0\n",
    "sample = random.sample(dict1.items(), 30)\n",
    "# print(sample)\n",
    "for item in sample:\n",
    "#     print(item[1][0])\n",
    "    m+= 1\n",
    "    im = img.crop(item[1][0])\n",
    "    im.save(\"P:\\GIS\\onthebooks\\croppedjp2words\\cropped\" +str(m)+\".jpeg\", 'jpeg')"
   ]
  },
  {
   "cell_type": "code",
   "execution_count": 47,
   "metadata": {},
   "outputs": [],
   "source": [
    "workbook = xlsxwriter.Workbook('P:\\GIS\\onthebooks\\images_sample.xlsx')\n",
    "worksheet = workbook.add_worksheet()\n",
    "worksheet.write('A1','text')\n",
    "worksheet.write('B1','wordsampleImage')\n",
    "c=0\n",
    "for n in sample:\n",
    "    c += 1\n",
    "#     print(n[0])\n",
    "    worksheet.write('A'+str(c+1), n[0])\n",
    "    worksheet.insert_image('B'+str(c+1), 'P:\\GIS\\onthebooks\\croppedjp2words\\cropped'+str(c)+'.jpeg',{'x_scale': 0.4, 'y_scale': 0.4})\n",
    "workbook.close()"
   ]
  },
  {
   "cell_type": "code",
   "execution_count": null,
   "metadata": {},
   "outputs": [],
   "source": []
  }
 ],
 "metadata": {
  "kernelspec": {
   "display_name": "Python 3",
   "language": "python",
   "name": "python3"
  },
  "language_info": {
   "codemirror_mode": {
    "name": "ipython",
    "version": 3
   },
   "file_extension": ".py",
   "mimetype": "text/x-python",
   "name": "python",
   "nbconvert_exporter": "python",
   "pygments_lexer": "ipython3",
   "version": "3.7.3"
  }
 },
 "nbformat": 4,
 "nbformat_minor": 2
}
