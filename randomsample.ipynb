{
 "cells": [
  {
   "cell_type": "code",
   "execution_count": 32,
   "metadata": {},
   "outputs": [],
   "source": [
    "import pandas\n",
    "import random\n",
    "import csv"
   ]
  },
  {
   "cell_type": "code",
   "execution_count": 51,
   "metadata": {},
   "outputs": [],
   "source": [
    "filename = [\"lawsresolutionso1880nort_private laws_split.csv\",\"lawsresolutionso1880nort_public laws special_split.csv\", \n",
    "            \"privatelawsofsta1901nort_private laws_split.csv\",\"privatelawsofsta1903nort_private laws_split.csv\",\n",
    "            \"lawsresolutionso1881nort_private laws_split.csv\",\"lawsresolutionso1881nort_public laws_split.csv\",\n",
    "            \"publiclawsresolu1907nort_public laws_split.csv\",\"publiclocallawso1911nort_public local laws_split.csv\",\n",
    "            \"publiclocallawso1913nort_public local laws_split.csv\",\"publiclocallawsp1931nort_private laws_split.csv\",\n",
    "            \"publiclocallawsp1931nort_public local laws_split.csv\"]\n",
    "masterlist = []           \n",
    "for file in filename:\n",
    "    with open(file, 'r') as f:\n",
    "        reader = csv.reader(f)\n",
    "        chosen_row = random.choice(list(reader))\n",
    "        chosen_row.insert(0,file)\n",
    "        masterlist.append(chosen_row)\n",
    "        with open('randomselection.csv', 'w', newline=\"\", encoding=\"utf-8\") as outfile:\n",
    "            writer = csv.writer(outfile)\n",
    "            writer.writerow([ \"filename\",\"Chapter\", \"Text\",\"Section\",\"Section Text\"])\n",
    "            for row in masterlist:\n",
    "                writer.writerow(row)"
   ]
  },
  {
   "cell_type": "code",
   "execution_count": 61,
   "metadata": {},
   "outputs": [],
   "source": [
    "filename = [\"sessionlawsresol1959nort_session laws_split - Copy.csv\",\"sessionlaws19656667nort_session laws regular_split - Copy.csv\",\n",
    "            \"sessionlaws19656667nort_session laws extra_split.csv\"]\n",
    "\n",
    "for file in filename:\n",
    "    with open(file, 'r') as laws:\n",
    "        reader = csv.DictReader(laws)\n",
    "        Chapter =[d['Chapter'] for d in reader]\n",
    "        Text = [d['Text'] for d in reader]\n",
    "        Section = [d['Section'] for d in reader]\n",
    "        SectionText = [d['Section Text'] for d in reader]"
   ]
  },
  {
   "cell_type": "code",
   "execution_count": 62,
   "metadata": {},
   "outputs": [
    {
     "data": {
      "text/plain": [
       "['CHAPTER 1',\n",
       " 'CHAPTER 1',\n",
       " 'CHAPTER 1',\n",
       " 'CHAPTER 1',\n",
       " 'CHAPTER 2',\n",
       " 'CHAPTER 1',\n",
       " 'CHAPTER 1',\n",
       " 'CHAPTER 1',\n",
       " 'CHAPTER 1',\n",
       " 'CHAPTER 2',\n",
       " 'CHAPTER 2',\n",
       " 'CHAPTER 2',\n",
       " 'CHAPTER 2',\n",
       " 'CHAPTER 2',\n",
       " 'CHAPTER 2',\n",
       " 'CHAPTER 2',\n",
       " 'CHAPTER 2',\n",
       " 'CHAPTER 2',\n",
       " 'CHAPTER 2',\n",
       " 'CHAPTER 2',\n",
       " 'CHAPTER 3',\n",
       " 'CHAPTER 3',\n",
       " 'CHAPTER 3',\n",
       " 'CHAPTER 4',\n",
       " 'CHAPTER 4',\n",
       " 'CHAPTER 4',\n",
       " 'CHAPTER 5',\n",
       " 'CHAPTER 5',\n",
       " 'CHAPTER 5',\n",
       " 'CHAPTER 5',\n",
       " 'CHAPTER 5',\n",
       " 'CHAPTER 5',\n",
       " 'CHAPTER 5',\n",
       " 'CHAPTER 5',\n",
       " 'CHAPTER 5',\n",
       " 'CHAPTER 5',\n",
       " 'CHAPTER 5',\n",
       " 'CHAPTER 5',\n",
       " 'CHAPTER 5',\n",
       " 'CHAPTER 5',\n",
       " 'CHAPTER 5',\n",
       " 'CHAPTER 5',\n",
       " 'CHAPTER 5',\n",
       " 'CHAPTER 5',\n",
       " 'CHAPTER 6',\n",
       " 'CHAPTER 6',\n",
       " 'CHAPTER 6',\n",
       " 'CHAPTER 6',\n",
       " 'CHAPTER 7',\n",
       " 'CHAPTER 7',\n",
       " 'CHAPTER 7',\n",
       " 'CHAPTER 7']"
      ]
     },
     "execution_count": 62,
     "metadata": {},
     "output_type": "execute_result"
    }
   ],
   "source": []
  },
  {
   "cell_type": "code",
   "execution_count": null,
   "metadata": {},
   "outputs": [],
   "source": []
  }
 ],
 "metadata": {
  "kernelspec": {
   "display_name": "Python 3",
   "language": "python",
   "name": "python3"
  },
  "language_info": {
   "codemirror_mode": {
    "name": "ipython",
    "version": 3
   },
   "file_extension": ".py",
   "mimetype": "text/x-python",
   "name": "python",
   "nbconvert_exporter": "python",
   "pygments_lexer": "ipython3",
   "version": "3.7.3"
  }
 },
 "nbformat": 4,
 "nbformat_minor": 2
}
