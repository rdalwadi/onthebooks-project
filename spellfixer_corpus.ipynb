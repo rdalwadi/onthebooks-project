{
 "cells": [
  {
   "cell_type": "code",
   "execution_count": 1,
   "metadata": {},
   "outputs": [],
   "source": [
    "import re\n",
    "import os\n",
    "import csv\n",
    "import string"
   ]
  },
  {
   "cell_type": "code",
   "execution_count": 2,
   "metadata": {},
   "outputs": [],
   "source": [
    "# fileslist = ['lawsresolutionso1879nort_private laws.txt','lawsresolutionso1879nort_public laws.txt','lawsresolutionso1880nort_private laws.txt','lawsresolutionso1880nort_public laws special.txt','lawsresolutionso1881nort_private laws.txt','lawsresolutionso1881nort_public laws.txt','lawsresolutionso1883nort_private laws.txt','lawsresolutionso1883nort_public laws.txt','lawsresolutionso1885nort_private laws.txt','lawsresolutionso1885nort_public laws.txt','lawsresolutionso1887nort_private laws.txt','lawsresolutionso1887nort_public laws.txt','lawsresolutionso1889nort_private laws.txt','lawsresolutionso1889nort_public laws.txt','lawsresolutionso1891nort_private laws.txt','lawsresolutionso1891nort_public laws.txt']\n",
    "\n",
    "with open('spellings_dict.csv', 'r') as spelldict:\n",
    "    reader = csv.DictReader(spelldict)\n",
    "    checklist1 =[d['sections'] for d in reader]\n",
    "with open('spellings_dict.csv', 'r') as spelldict:\n",
    "    reader = csv.DictReader(spelldict)\n",
    "    checklist2 =[d['abbreviations'] for d in reader]"
   ]
  },
  {
   "cell_type": "code",
   "execution_count": 68,
   "metadata": {},
   "outputs": [
    {
     "ename": "ValueError",
     "evalue": "list.remove(x): x not in list",
     "output_type": "error",
     "traceback": [
      "\u001b[1;31m---------------------------------------------------------------------------\u001b[0m",
      "\u001b[1;31mValueError\u001b[0m                                Traceback (most recent call last)",
      "\u001b[1;32m<ipython-input-68-dca1b45e0da5>\u001b[0m in \u001b[0;36m<module>\u001b[1;34m\u001b[0m\n\u001b[1;32m----> 1\u001b[1;33m \u001b[0mchecklist2\u001b[0m\u001b[1;33m.\u001b[0m\u001b[0mremove\u001b[0m\u001b[1;33m(\u001b[0m\u001b[1;34m''\u001b[0m\u001b[1;33m)\u001b[0m\u001b[1;33m\u001b[0m\u001b[1;33m\u001b[0m\u001b[0m\n\u001b[0m",
      "\u001b[1;31mValueError\u001b[0m: list.remove(x): x not in list"
     ]
    }
   ],
   "source": [
    "# checklist2.remove('')"
   ]
  },
  {
   "cell_type": "code",
   "execution_count": 69,
   "metadata": {},
   "outputs": [
    {
     "name": "stdout",
     "output_type": "stream",
     "text": [
      "['SEcTION', 'Section', 'SECTION', 'SrcTIon', 'SecTION', 'SEecTION', 'SecTion', 'SEcTIon', 'SEcTion', 'SecTIon', 'SeEcTION', 'Secryion', 'Srction', 'SEecTiION', 'Suction', 'SecTIoN', 'SecTiIon', 'Srotion', 'Srction', 'SEcTIoN', 'Sxctron', 'Sxction', 'Secrion', 'Szcrion', 'SecTion', 'Srectron', 'Srctron', 'Sxection', 'SEectTIoN', 'SEcTION', 'Srcrion', 'SEcTIon', 'Sectien', 'Sgcrion', 'Srection', 'SrecTIoN', 'Secrron', 'Srecrron', 'SecTION', 'Srcrron', 'Sxcrion', 'Srecrion', 'Secr1on', 'Secon', 'Sreerton', 'Ssecrion', 'Section', 'SEctTIoN', 'Secgion', 'Sxorron', 'Srecrioy', 'Sxcrion', 'Seetron', 'Sercrion', 'SEcrTion', 'Sreerion', 'SEcrION', 'sQperronw', 'Szorion', 'Snorron', 'Srcrrion', 'Srorton', 'SrecTion ', 'Sotion', 'Szotion', 'SxecTION', 'Ssorron', 'SrecTION ', 'Szction', 'SEecTiIon', 'Szction', 'Sxcrron', 'Ssorton', 'Szction', 'SxcTION', 'Srcrrion', 'Sscrion', 'Szction', 'SxcTion', 'Seciton', 'Secton', 'Sxction', 'Sxcrion', 'Szction', 'Sietion', 'Sacrion', 'Stotion']\n",
      "['Sec', 'Src', 'Sc', 'SEc', 'SrEc', 'SeEc', 'Sxc', 'SEC', 'Sec ', 'Sre', 'Seo', 'SEc ', 'Szco ', 'SkEc', 'Sco', 'SeEc', 'Sze', 'Sezc', 'Suc', 'Szc', 'Sere', 'Sic', 'Suo', 'Sev', 'Sue', 'Sn@', 'SxEc', '$xc', 'Sac', 'Sree', 'Srece', 'Sxec', 'Skc', 'Skxc', 'Ec', 'See', 'Ske', 'Sro®', 'Ste', 'Bec', 'Bxc', 'Sgc', 'Szec', 'Sexc', 'Sse', 'Gre', 'Swe', 'Sno', 'Seo', 'Szo', 'Sxo', 'Ssc', 'So', 'Bro', 'Ec', 'Swe', 'SE', 'Sve', 'sic', 'Nec', 'Sro', 'SEO', 'Bec', 'sec', 'Sto', 'Sgo', 'SxEc', 'SxHc', 'SKc', 'Sktc', 'Skéc']\n"
     ]
    }
   ],
   "source": [
    "print(checklist1)\n",
    "print(checklist2)\n",
    "checklist3 = ['CuHapTeER','CuHaptTEeR','CHaPpTeEeR','CHaApTER','CuHaprTer','CHAPTER','CHaAPpTeER','CHAPPER']"
   ]
  },
  {
   "cell_type": "code",
   "execution_count": 76,
   "metadata": {},
   "outputs": [],
   "source": [
    "with open('sessionlawsresol1963nort_session laws.txt',\"r\") as laws:\n",
    "    text1 = laws.readlines()\n",
    "    \n",
    "    with open('sessionlawsresol1963nort_session laws.txt', 'w') as newfile:\n",
    "        for line in text1:\n",
    "            match = re.findall('CHAPTER \\d+ [\\.A]*N ACT',line)\n",
    "            if match:\n",
    "                split1, split2, split3, split4 = match[0].split(' ')\n",
    "    #             print(split1)\n",
    "                line = line.replace(match[0], 'CHAPTER '+ split2 + '.' + ' AN ACT')\n",
    "                newfile.write(line)\n",
    "    #             print(line)\n",
    "            else:\n",
    "                newfile.write(line)\n"
   ]
  },
  {
   "cell_type": "code",
   "execution_count": 53,
   "metadata": {},
   "outputs": [],
   "source": [
    "# # for file in fileslist:\n",
    "# with open('publiclocallawsp1927nort_private laws.txt', 'r') as f:\n",
    "#     text = f.readlines()\n",
    "# #     with open(file[:-4]+'_fixed.txt', 'w') as newfile:\n",
    "#     with open('publiclocallawsp1927nort_private laws'+'_fixed.txt', 'w') as newfile:\n",
    "#         for l in text:\n",
    "#             match1 = re.search('S[A-Za-z ]*', l)\n",
    "#             match2 = re.search('C[A-Za-z ]*',l)\n",
    "#             if match1:\n",
    "# #                     print(match1[0])\n",
    "#                 if match1[0].strip() in checklist1:\n",
    "#                     l = l.replace(match1[0].strip(), 'Section.')\n",
    "#                     newfile.write(l)\n",
    "#                 elif match1[0].strip() in checklist2:\n",
    "#                     l = l.replace(match1[0].strip(), 'Section')\n",
    "#                     newfile.write(l)\n",
    "#                 else:\n",
    "#                     newfile.write(l)\n",
    "# #                 else:\n",
    "# #                     newfile.write(l)\n",
    "#             elif match2:\n",
    "# #                     print(match2[0])\n",
    "#                 if match2[0].strip() in checklist3:\n",
    "#                     l = l.replace(match2[0].strip(), 'CHAPTER')\n",
    "#                     newfile.write(l)\n",
    "#                 else:\n",
    "#                     newfile.write(l)\n",
    "#             else:\n",
    "#                 newfile.write(l)"
   ]
  },
  {
   "cell_type": "code",
   "execution_count": 77,
   "metadata": {},
   "outputs": [],
   "source": [
    "# for file in fileslist:\n",
    "with open('sessionlawsresol1963nort_session laws.txt', 'r') as f:\n",
    "    text = f.readlines()\n",
    "#     with open(file[:-4]+'_fixed.txt', 'w') as newfile:\n",
    "    with open('sessionlawsresol1963nort_session laws'+'_fixed.txt', 'w') as newfile:\n",
    "        for l in text:\n",
    "            match1 = re.search('S[A-Za-z]*(n|N) 1\\.', l)\n",
    "            match2 = re.search('^[“]*S[A-Za-z]*(\\.|,|:) [0-9]*(\\.|,|:|;)', l)\n",
    "            match3 = re.search('C[A-Za-z ]*',l)\n",
    "            if match1:\n",
    "                l = l.replace(match1[0].strip(), 'Section. 1.')\n",
    "                newfile.write(l)\n",
    "#                 else:\n",
    "#                     newfile.write(l)\n",
    "            elif match2:\n",
    "#                     print(match2[0])\n",
    "#                 if match2[0].strip() in checklist2:\n",
    "                sec, num = match2[0].split(' ')\n",
    "#                 print(num[:-1])\n",
    "                l = l.replace(match2[0].strip(), 'Section. ' + num[:-1]+'.')\n",
    "                newfile.write(l)\n",
    "#                 else:\n",
    "#                     newfile.write(l)\n",
    "            elif match3:\n",
    "#                     print(match2[0])\n",
    "                if match3[0].strip() in checklist3:\n",
    "                    l = l.replace(match3[0].strip(), 'CHAPTER')\n",
    "                    newfile.write(l)\n",
    "                else:\n",
    "                    newfile.write(l)\n",
    "            else:\n",
    "                newfile.write(l)"
   ]
  },
  {
   "cell_type": "code",
   "execution_count": 13,
   "metadata": {},
   "outputs": [],
   "source": [
    "# for file in fileslist:\n",
    "with open('publiclawsofstat186566nor_public laws general assemblyFINISHED.txt', 'r') as f:\n",
    "    text = f.readlines()\n",
    "#     with open(file[:-4]+'_fixed.txt', 'w') as newfile:\n",
    "    with open('publiclawsofstat186566nor_public laws general assemblyFINISHED'+'_fixed.txt', 'w') as newfile:\n",
    "        for l in text:\n",
    "            match1 = re.search('S[A-Za-z]*(n|N) 1\\.', l)\n",
    "            match2 = re.search('^[“]*S[A-Za-z]*(\\.|,|:) [0-9]*(\\.|,|:|;)', l)\n",
    "    \n",
    "            if match1:\n",
    "                l = l.replace(match1[0].strip(), 'Section. 1.')\n",
    "                newfile.write(l)\n",
    "#                 else:\n",
    "#                     newfile.write(l)\n",
    "            elif match2:\n",
    "#                     print(match2[0])\n",
    "#                 if match2[0].strip() in checklist2:\n",
    "                sec, num = match2[0].split(' ')\n",
    "#                 print(num[:-1])\n",
    "                l = l.replace(match2[0].strip(), 'Section. ' + num[:-1]+'.')\n",
    "                newfile.write(l)\n",
    "#                 else:\n",
    "#                     newfile.write(l)\n",
    "            else:\n",
    "                newfile.write(l)"
   ]
  }
 ],
 "metadata": {
  "kernelspec": {
   "display_name": "Python 3",
   "language": "python",
   "name": "python3"
  },
  "language_info": {
   "codemirror_mode": {
    "name": "ipython",
    "version": 3
   },
   "file_extension": ".py",
   "mimetype": "text/x-python",
   "name": "python",
   "nbconvert_exporter": "python",
   "pygments_lexer": "ipython3",
   "version": "3.7.3"
  }
 },
 "nbformat": 4,
 "nbformat_minor": 2
}
