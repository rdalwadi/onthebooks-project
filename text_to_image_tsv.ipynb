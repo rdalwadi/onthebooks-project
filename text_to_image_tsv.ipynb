{
 "cells": [
  {
   "cell_type": "code",
   "execution_count": 11,
   "metadata": {},
   "outputs": [],
   "source": [
    "import numpy as np"
   ]
  },
  {
   "cell_type": "code",
   "execution_count": 12,
   "metadata": {},
   "outputs": [],
   "source": [
    "import csv\n",
    "from PIL import Image\n",
    "import os\n",
    "import xlsxwriter\n",
    "\n",
    "filelist=[]\n",
    "dirlist = os.listdir(r'P:\\GIS\\onthebooks\\ocr_output')\n",
    "# print(dirlist)\n",
    "for d in dirlist:\n",
    "    os.chdir(r'P:\\GIS\\onthebooks\\ocr_output\\\\'+d)\n",
    "    dl = os.listdir()\n",
    "    for f in dl:\n",
    "        if f.endswith(\".tsv\"):\n",
    "            filelist.append(f)"
   ]
  },
  {
   "cell_type": "code",
   "execution_count": null,
   "metadata": {
    "scrolled": true
   },
   "outputs": [],
   "source": [
    "tuplelist =[]\n",
    "for filename in filelist:\n",
    "#     print(filename)\n",
    "    split = filename.split('_')\n",
    "#     print(split[0])\n",
    "#     print('P:\\GIS\\onthebooks\\ocr_output\\\\'+split[0]+'\\\\'+filename)\n",
    "    with open('P:\\GIS\\onthebooks\\ocr_output\\\\'+split[0]+'\\\\'+filename, 'r') as tsv:\n",
    "        reader = csv.DictReader(tsv, dialect='excel-tab')\n",
    "        for line in reader:     \n",
    "            if int(line['conf']) != -1:\n",
    "                width=(int(line['left']))+(int(line['width']))\n",
    "                height=(int(line['height']))+(int(line['top']))\n",
    "        #             print(width)\n",
    "        #             print(height)\n",
    "                tuple1 = (line['text'],(int(line['left']),int(line['top']),width, height), line['conf'], line['name'])\n",
    "                tuplelist.append(tuple1)"
   ]
  },
  {
   "cell_type": "code",
   "execution_count": 10,
   "metadata": {},
   "outputs": [
    {
     "name": "stdout",
     "output_type": "stream",
     "text": [
      "1022364\n"
     ]
    }
   ],
   "source": [
    "print(len(tuplelist))"
   ]
  },
  {
   "cell_type": "code",
   "execution_count": null,
   "metadata": {},
   "outputs": [],
   "source": [
    "m = 0\n",
    "for n in tuplelist:\n",
    "    filename = n[3]\n",
    "    file1 = filename.split('_')\n",
    "    filefolder = file1[0]+'_jp2_nomargins_nohead'\n",
    "    em = 'EM_' + filename\n",
    "    img = Image.open(r'P:\\GIS\\onthebooks\\1865-1968_jp2_nomarginalia\\\\'+filefolder+'\\\\'+em)\n",
    "    im = img.crop(n[1])\n",
    "#     print(n[1])\n",
    "    im.save(\"P:\\GIS\\onthebooks\\croppedjp2wordsall\\cropped\" +str(m)+\".jpeg\", 'jpeg')\n",
    "    m+=1"
   ]
  },
  {
   "cell_type": "code",
   "execution_count": null,
   "metadata": {
    "scrolled": false
   },
   "outputs": [],
   "source": [
    "workbook = xlsxwriter.Workbook('P:\\GIS\\onthebooks\\images1.xlsx')\n",
    "worksheet = workbook.add_worksheet()\n",
    "worksheet.write('A1','text')\n",
    "worksheet.write('B1','wordImage')\n",
    "worksheet.write('C1', 'filename')\n",
    "for n in range(0,len(tuplelist)+1):\n",
    "    worksheet.write('A'+str(n+2), tuplelist[n][0])\n",
    "    worksheet.insert_image('B'+str(n+2), 'P:\\GIS\\onthebooks\\croppedjp2wordsall\\cropped'+str(n)+'.jpeg',{'x_scale': 0.5, 'y_scale': 0.5})\n",
    "    worksheet.write('C'+str(n+2),tuplelist[n][3])\n",
    "workbook.close()"
   ]
  }
 ],
 "metadata": {
  "kernelspec": {
   "display_name": "Python 3",
   "language": "python",
   "name": "python3"
  },
  "language_info": {
   "codemirror_mode": {
    "name": "ipython",
    "version": 3
   },
   "file_extension": ".py",
   "mimetype": "text/x-python",
   "name": "python",
   "nbconvert_exporter": "python",
   "pygments_lexer": "ipython3",
   "version": "3.7.3"
  }
 },
 "nbformat": 4,
 "nbformat_minor": 2
}
